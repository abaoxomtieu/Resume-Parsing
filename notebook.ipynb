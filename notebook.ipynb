{
 "cells": [
  {
   "cell_type": "code",
   "execution_count": 21,
   "metadata": {},
   "outputs": [],
   "source": [
    "from src.inference.segment_inference import inference\n",
    "import cv2\n",
    "from pytesseract import pytesseract\n",
    "from langchain_google_genai import GoogleGenerativeAI\n",
    "from dotenv import load_dotenv\n",
    "\n",
    "load_dotenv()\n",
    "path_to_tesseract = r\"C:\\Program Files\\Tesseract-OCR\\tesseract.exe\"\n",
    "pytesseract.tesseract_cmd = path_to_tesseract\n",
    "llm = GoogleGenerativeAI(\n",
    "    model=\"gemini-1.5-flash\",\n",
    "    temperature=0,\n",
    ")\n"
   ]
  },
  {
   "cell_type": "code",
   "execution_count": 22,
   "metadata": {},
   "outputs": [],
   "source": [
    "def crop_image(image, box):\n",
    "\n",
    "    x1, y1, x2, y2 = map(int, box)  # Convert coordinates to integers\n",
    "    cropped_image = image[y1:y2, x1:x2]\n",
    "    return cropped_image\n",
    "\n",
    "\n",
    "def extract_text(outputs, image_origin):\n",
    "    for i in range(len(outputs)):\n",
    "        image = crop_image(image_origin, outputs[i].get(\"box\"))\n",
    "        text = pytesseract.image_to_string(image)\n",
    "\n",
    "        outputs[i].update({\"image\": image})\n",
    "        outputs[i].update({\"text\": text})\n",
    "        if \"text\" in outputs[i]:\n",
    "            outputs[i][\"text\"] += text\n",
    "        else:\n",
    "            outputs[i].update({\"text\": text})\n",
    "    return outputs"
   ]
  },
  {
   "cell_type": "code",
   "execution_count": 15,
   "metadata": {},
   "outputs": [],
   "source": [
    "image_origin = cv2.imread(\"./src/data/resume-for-fresher-template-281.jpg\")\n",
    "outputs = inference(\n",
    "    image_origin,\n",
    "    model_path=\"./src/model/segment.onnx\",\n",
    "    threshold_confidence=0.7,\n",
    "    threshold_iou=0.7,\n",
    ")\n",
    "outputs = extract_text(outputs,image_origin=image_origin)"
   ]
  },
  {
   "cell_type": "code",
   "execution_count": 16,
   "metadata": {},
   "outputs": [],
   "source": [
    "for i in range(len(outputs)):\n",
    "    cv2.imshow((outputs[i].get(\"label\").upper()),outputs[i].get(\"image\"))\n",
    "    cv2.waitKey(0)\n",
    "    cv2.destroyAllWindows()\n",
    "cv2.destroyAllWindows()"
   ]
  },
  {
   "cell_type": "code",
   "execution_count": 17,
   "metadata": {},
   "outputs": [
    {
     "data": {
      "text/plain": [
       "{'experience': 'PROFESSIONAL EXPERIENCE\\n\\nSoftware Developer Intern\\nXYZ Tech Solutions — City, State | 20Xx - 20xx\\n\\n* Collaborated with a cross-functional team to\\ndevelop software solutions for client projects.\\n\\n‘+ Assisted in troubleshooting and debugging code,\\ncontributing to timely delivery.\\n\\n+ Patticipated in code reviews.\\n\\nIT Support Intern\\n‘ABC Company ~ City, State | 20XX - 20xX\\n\\n+ Provided technical support to employees,\\nresolving hardware and software issue.\\n\\n‘+ Assisted in the maintenance and troubleshooting\\nof the company’s IT infrastructure.\\n\\n+ Conducted user training sessions\\n\\nMobile App Development Project\\nUniversity of Tech — City, State | 20XX - 20xX\\n\\n‘+ Spearheaded the development of a mobile\\napplication aimed at enhancing campus\\n‘communication,\\n\\n+ Utilized Java and Android Studio to design and\\nimplement user-friendly interfaces.\\nPROFESSIONAL EXPERIENCE\\n\\nSoftware Developer Intern\\nXYZ Tech Solutions — City, State | 20Xx - 20xx\\n\\n* Collaborated with a cross-functional team to\\ndevelop software solutions for client projects.\\n\\n‘+ Assisted in troubleshooting and debugging code,\\ncontributing to timely delivery.\\n\\n+ Patticipated in code reviews.\\n\\nIT Support Intern\\n‘ABC Company ~ City, State | 20XX - 20xX\\n\\n+ Provided technical support to employees,\\nresolving hardware and software issue.\\n\\n‘+ Assisted in the maintenance and troubleshooting\\nof the company’s IT infrastructure.\\n\\n+ Conducted user training sessions\\n\\nMobile App Development Project\\nUniversity of Tech — City, State | 20XX - 20xX\\n\\n‘+ Spearheaded the development of a mobile\\napplication aimed at enhancing campus\\n‘communication,\\n\\n+ Utilized Java and Android Studio to design and\\nimplement user-friendly interfaces.\\n',\n",
       " 'profile': 'PROFILE\\n\\nMotivated and results-driven\\ncomputer science graduate seeking\\na challenging position as an Entry-\\nLevel Software Developer.\\nPossessing a solid foundation in\\nsoftware development and\\nprogramming languages.\\nPROFILE\\n\\nMotivated and results-driven\\ncomputer science graduate seeking\\na challenging position as an Entry-\\nLevel Software Developer.\\nPossessing a solid foundation in\\nsoftware development and\\nprogramming languages.\\n',\n",
       " 'contact': 'CONTACT\\n\\n% +1 999999999\\n© _Name.surname@gmail.com\\nOB Linkedin/URL\\nCONTACT\\n\\n% +1 999999999\\n© _Name.surname@gmail.com\\nOB Linkedin/URL\\n',\n",
       " 'education': 'EDUCATION\\n\\nBS in Computer Science\\nUniversity of Tech — City, State | 20xX- 20%x\\nCourses: Data Structures, Algorithms, Engineering.\\n\\nCertification in Web Development\\nCoding Institute ~ City, State | 20XX - 20xx\\n\\nDeveloped skills in HTML, CSS, JavaScript, Nodes.\\n\\nHigh School Diploma\\nCity High School - City ~ State | 20%X - 20%\\nExcelled in mathematics and science courses\\nEDUCATION\\n\\nBS in Computer Science\\nUniversity of Tech — City, State | 20xX- 20%x\\nCourses: Data Structures, Algorithms, Engineering.\\n\\nCertification in Web Development\\nCoding Institute ~ City, State | 20XX - 20xx\\n\\nDeveloped skills in HTML, CSS, JavaScript, Nodes.\\n\\nHigh School Diploma\\nCity High School - City ~ State | 20%X - 20%\\nExcelled in mathematics and science courses\\n',\n",
       " 'skills': 'SKILLS\\n\\n© Java\\n\\n* Python\\n\\n* JavaScript\\n\\n* Problem-Solver\\n\\n* Adaptable\\nSKILLS\\n\\n© Java\\n\\n* Python\\n\\n* JavaScript\\n\\n* Problem-Solver\\n\\n* Adaptable\\n',\n",
       " 'languages': 'LANGUAGES\\n\\n* English: Native\\n\\n‘+ Spanish: Intermediate\\n© French: Beginner\\nLANGUAGES\\n\\n* English: Native\\n\\n‘+ Spanish: Intermediate\\n© French: Beginner\\n',\n",
       " 'interests': 'HOBBIES\\n© Al& Machine Learining\\n* Hiking & Outdoor Activities\\n\\n* Coding Competitions\\nHOBBIES\\n© Al& Machine Learining\\n* Hiking & Outdoor Activities\\n\\n* Coding Competitions\\n'}"
      ]
     },
     "execution_count": 17,
     "metadata": {},
     "output_type": "execute_result"
    }
   ],
   "source": [
    "def extract_text_dict(outputs):\n",
    "    result_dict = {}\n",
    "    for output in outputs:\n",
    "        label = output.get(\"label\").lower()\n",
    "        text = output.get(\"text\")\n",
    "        if label in result_dict:\n",
    "            result_dict[label] += \" \" + text\n",
    "        else:\n",
    "            result_dict[label] = text\n",
    "    return result_dict\n",
    "outputs = extract_text_dict(outputs)\n",
    "outputs"
   ]
  },
  {
   "cell_type": "code",
   "execution_count": 32,
   "metadata": {},
   "outputs": [],
   "source": [
    "prompt = \"\"\"\n",
    "#Role: You are an expert at correcting spelling errors from interviewee's resume information.\n",
    "#Instruction:\n",
    "You are provided with a dictionary containing information from the user's resume by an OCR model. It may have misspellings or wrong entries.\n",
    "Please correct the spelling of each field.\n",
    "Move the content of the fields to more appropriate fields if necessary.\n",
    "You must not fabricate information and create new information.\n",
    "\n",
    "You must return JSON containing the same format as the original format:\n",
    "\n",
    "#Input:\n",
    "My resume is as follows: {input}\n",
    "\"\"\""
   ]
  },
  {
   "cell_type": "code",
   "execution_count": 33,
   "metadata": {},
   "outputs": [],
   "source": [
    "input = prompt.format(input=outputs)"
   ]
  },
  {
   "cell_type": "code",
   "execution_count": 34,
   "metadata": {},
   "outputs": [],
   "source": [
    "response = llm.invoke(input)"
   ]
  },
  {
   "cell_type": "code",
   "execution_count": 35,
   "metadata": {},
   "outputs": [],
   "source": [
    "import json\n",
    "from langchain_core.output_parsers import JsonOutputParser\n",
    "\n"
   ]
  },
  {
   "cell_type": "code",
   "execution_count": 38,
   "metadata": {},
   "outputs": [
    {
     "data": {
      "text/plain": [
       "{'experience': [{'title': 'Software Developer Intern',\n",
       "   'company': 'XYZ Tech Solutions',\n",
       "   'location': 'City, State',\n",
       "   'years': '20XX - 20XX',\n",
       "   'description': '- Collaborated with a cross-functional team to develop software solutions for client projects.\\n- Assisted in troubleshooting and debugging code, contributing to timely delivery.\\n- Participated in code reviews.'},\n",
       "  {'title': 'IT Support Intern',\n",
       "   'company': 'ABC Company',\n",
       "   'location': 'City, State',\n",
       "   'years': '20XX - 20XX',\n",
       "   'description': '- Provided technical support to employees, resolving hardware and software issues.\\n- Assisted in the maintenance and troubleshooting of the company’s IT infrastructure.\\n- Conducted user training sessions.'},\n",
       "  {'title': 'Mobile App Development Project',\n",
       "   'company': 'University of Tech',\n",
       "   'location': 'City, State',\n",
       "   'years': '20XX - 20XX',\n",
       "   'description': '- Spearheaded the development of a mobile application aimed at enhancing campus communication.\\n- Utilized Java and Android Studio to design and implement user-friendly interfaces.'}],\n",
       " 'profile': 'Motivated and results-driven computer science graduate seeking a challenging position as an Entry-Level Software Developer. Possessing a solid foundation in software development and programming languages.',\n",
       " 'contact': {'phone': '+1 999999999',\n",
       "  'email': 'Name.surname@gmail.com',\n",
       "  'linkedin': 'Linkedin/URL'},\n",
       " 'education': [{'degree': 'BS in Computer Science',\n",
       "   'institution': 'University of Tech',\n",
       "   'location': 'City, State',\n",
       "   'years': '20XX - 20XX',\n",
       "   'courses': 'Data Structures, Algorithms, Engineering'},\n",
       "  {'degree': 'Certification in Web Development',\n",
       "   'institution': 'Coding Institute',\n",
       "   'location': 'City, State',\n",
       "   'years': '20XX - 20XX',\n",
       "   'description': 'Developed skills in HTML, CSS, JavaScript, Node.js.'},\n",
       "  {'degree': 'High School Diploma',\n",
       "   'institution': 'City High School',\n",
       "   'location': 'City, State',\n",
       "   'years': '20XX - 20XX',\n",
       "   'description': 'Excelled in mathematics and science courses'}],\n",
       " 'skills': ['Java', 'Python', 'JavaScript', 'Problem-Solver', 'Adaptable'],\n",
       " 'languages': [{'language': 'English', 'proficiency': 'Native'},\n",
       "  {'language': 'Spanish', 'proficiency': 'Intermediate'},\n",
       "  {'language': 'French', 'proficiency': 'Beginner'}],\n",
       " 'interests': ['AI & Machine Learning',\n",
       "  'Hiking & Outdoor Activities',\n",
       "  'Coding Competitions']}"
      ]
     },
     "execution_count": 38,
     "metadata": {},
     "output_type": "execute_result"
    }
   ],
   "source": [
    "response_parser = JsonOutputParser().parse(response)\n",
    "response_parser"
   ]
  },
  {
   "cell_type": "code",
   "execution_count": 39,
   "metadata": {},
   "outputs": [
    {
     "data": {
      "text/plain": [
       "[{'language': 'English', 'proficiency': 'Native'},\n",
       " {'language': 'Spanish', 'proficiency': 'Intermediate'},\n",
       " {'language': 'French', 'proficiency': 'Beginner'}]"
      ]
     },
     "execution_count": 39,
     "metadata": {},
     "output_type": "execute_result"
    }
   ],
   "source": []
  },
  {
   "cell_type": "code",
   "execution_count": null,
   "metadata": {},
   "outputs": [],
   "source": []
  }
 ],
 "metadata": {
  "kernelspec": {
   "display_name": "Python 3",
   "language": "python",
   "name": "python3"
  },
  "language_info": {
   "codemirror_mode": {
    "name": "ipython",
    "version": 3
   },
   "file_extension": ".py",
   "mimetype": "text/x-python",
   "name": "python",
   "nbconvert_exporter": "python",
   "pygments_lexer": "ipython3",
   "version": "3.11.9"
  }
 },
 "nbformat": 4,
 "nbformat_minor": 2
}
