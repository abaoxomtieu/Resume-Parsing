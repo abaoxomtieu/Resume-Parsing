{
 "cells": [
  {
   "cell_type": "code",
   "execution_count": 2,
   "metadata": {},
   "outputs": [],
   "source": [
    "from src.inference.segment_inference import inference\n",
    "from PIL import Image \n"
   ]
  },
  {
   "cell_type": "code",
   "execution_count": 29,
   "metadata": {},
   "outputs": [],
   "source": [
    "from src.inference.segment_inference import inference\n",
    "import cv2\n",
    "image_origin = cv2.imread('./test.jpg')\n",
    "outputs = inference(image_origin, model_path=\"./src/model/segment.onnx\")\n",
    "\n"
   ]
  },
  {
   "cell_type": "code",
   "execution_count": 30,
   "metadata": {},
   "outputs": [],
   "source": [
    "def crop_image(image, box):\n",
    "\n",
    "    x1, y1, x2, y2 = map(int, box)  # Convert coordinates to integers\n",
    "    cropped_image = image[y1:y2, x1:x2]\n",
    "    return cropped_image"
   ]
  },
  {
   "cell_type": "code",
   "execution_count": 31,
   "metadata": {},
   "outputs": [],
   "source": [
    "from pytesseract import pytesseract \n",
    "\n",
    "path_to_tesseract = r\"C:\\Program Files\\Tesseract-OCR\\tesseract.exe\"\n",
    "\n",
    "pytesseract.tesseract_cmd = path_to_tesseract \n",
    "def extract_text(outputs):\n",
    "    for i in range(len(outputs)):\n",
    "        image = crop_image(image_origin, outputs[i].get(\"box\"))\n",
    "        text = pytesseract.image_to_string(image)\n",
    "        outputs[i].update({\"image\":image})\n",
    "        outputs[i].update({\"text\":text})\n",
    "    return outputs"
   ]
  },
  {
   "cell_type": "code",
   "execution_count": 32,
   "metadata": {},
   "outputs": [],
   "source": [
    "outputs = extract_text(outputs)"
   ]
  },
  {
   "cell_type": "code",
   "execution_count": 34,
   "metadata": {},
   "outputs": [],
   "source": [
    "for i in range(len(outputs)):\n",
    "    cv2.imshow((outputs[i].get(\"label\").upper()),outputs[i].get(\"image\"))\n",
    "    cv2.waitKey(0)\n",
    "    cv2.destroyAllWindows()\n",
    "cv2.destroyAllWindows()"
   ]
  },
  {
   "cell_type": "code",
   "execution_count": 35,
   "metadata": {},
   "outputs": [
    {
     "name": "stdout",
     "output_type": "stream",
     "text": [
      "EXPERIENCE:  EXPERIENCE PROFESSIONNELLE\n",
      "\n",
      "=========================\n",
      "EXPERIENCE:  \n",
      "=========================\n",
      "EXPERIENCE:  OMPETEN:\n",
      "\n",
      "\n",
      "=========================\n",
      "EXPERIENCE:  Mme NAJI Chaimae\n",
      "\n",
      "=========================\n",
      "EXPERIENCE:  ‘Telephone : 06-59.47.56.32\n",
      "E-mail: cnajighepmistes.net\n",
      "Linkedin shetpsd/unnaclinkedin.com/\n",
      "infehaienae-niaji-OOs9s7192\n",
      "bourgegnes, 95000 CuRGY\n",
      "\n",
      "amecaceanaes SEATTA\n",
      "\n",
      "=========================\n",
      "EXPERIENCE:  FORMATION PROFESSIONNELLE\n",
      "\n",
      "\n",
      "=========================\n",
      "EXPERIENCE:  DE 12 SEMAINES A PARTIR DU: 08/11/2021\n",
      "GuaaurAo. weloaieasa\n",
      "\n",
      "=========================\n",
      "EXPERIENCE:  EN RECHERCHE D'UN STAGE TECHNICIEN EN\n",
      "an cuene\n",
      "\n",
      "=========================\n"
     ]
    }
   ],
   "source": [
    "for i in range(len(outputs)):\n",
    "    print((outputs[0].get(\"label\").upper()) + \": \", outputs[i].get(\"text\"))\n",
    "    print(\"=========================\")"
   ]
  },
  {
   "cell_type": "code",
   "execution_count": null,
   "metadata": {},
   "outputs": [],
   "source": []
  }
 ],
 "metadata": {
  "kernelspec": {
   "display_name": "Python 3",
   "language": "python",
   "name": "python3"
  },
  "language_info": {
   "codemirror_mode": {
    "name": "ipython",
    "version": 3
   },
   "file_extension": ".py",
   "mimetype": "text/x-python",
   "name": "python",
   "nbconvert_exporter": "python",
   "pygments_lexer": "ipython3",
   "version": "3.11.9"
  }
 },
 "nbformat": 4,
 "nbformat_minor": 2
}
